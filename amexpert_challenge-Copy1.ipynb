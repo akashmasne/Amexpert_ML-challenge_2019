{
 "cells": [
  {
   "cell_type": "code",
   "execution_count": 480,
   "metadata": {},
   "outputs": [],
   "source": [
    "import pandas as pd\n",
    "import numpy as np\n",
    "import seaborn as sns\n",
    "import matplotlib.pyplot as plt\n",
    "%matplotlib inline\n",
    "sns.set_style('whitegrid')\n",
    "import warnings\n",
    "warnings.filterwarnings('ignore')"
   ]
  },
  {
   "cell_type": "code",
   "execution_count": 1059,
   "metadata": {},
   "outputs": [],
   "source": [
    "df_train=pd.read_csv('train_data/train.csv')\n",
    "df_cust=pd.read_csv('train_data/customer_demographics.csv')\n",
    "df_txn=pd.read_csv('train_data/customer_transaction_data.csv')\n",
    "df_campaign=pd.read_csv('train_data/campaign_data.csv')\n",
    "df_coupon_item_map=pd.read_csv('train_data/coupon_item_mapping.csv')\n",
    "df_item_data=pd.read_csv('train_data/item_data.csv')\n",
    "df_test=pd.read_csv(\"test_data.csv\")\n",
    "#need to merge train & test set"
   ]
  },
  {
   "cell_type": "code",
   "execution_count": 1060,
   "metadata": {},
   "outputs": [],
   "source": [
    "df=pd.concat([df_train, df_test],axis=0,ignore_index=True,verify_integrity=True)  # verify_integrity - prevents duplicates"
   ]
  },
  {
   "cell_type": "code",
   "execution_count": 1061,
   "metadata": {},
   "outputs": [
    {
     "name": "stdout",
     "output_type": "stream",
     "text": [
      "0.0    77640\n",
      "1.0      729\n",
      "Name: redemption_status, dtype: int64\n",
      "NOT null values :  78369\n",
      "null values :  50226\n",
      "(128595, 5)\n"
     ]
    }
   ],
   "source": [
    "#Target column\n",
    "print(df['redemption_status'].value_counts())\n",
    "print('NOT null values : ',df['redemption_status'].notnull().sum())\n",
    "print('null values : ',df['redemption_status'].isnull().sum())\n",
    "print(df.shape)"
   ]
  },
  {
   "cell_type": "markdown",
   "metadata": {},
   "source": [
    "# Need to join column values from all the csv files\n",
    "df_train.join(df_cust,on='customer_id',lsuffix='_train') # preserves index but many values null\n",
    "\n",
    "left vs inner join: df1.join(df2) does a left join by default (keeps all rows of df1), \n",
    "but df.merge does an inner join by default (returns only matching rows of df1 and df2).\n",
    "Hence we will take df2"
   ]
  },
  {
   "cell_type": "code",
   "execution_count": 1058,
   "metadata": {},
   "outputs": [
    {
     "data": {
      "text/plain": [
       "customer_id         0\n",
       "age_range           0\n",
       "marital_status    329\n",
       "rented              0\n",
       "family_size         0\n",
       "no_of_children    538\n",
       "income_bracket      0\n",
       "dtype: int64"
      ]
     },
     "execution_count": 1058,
     "metadata": {},
     "output_type": "execute_result"
    }
   ],
   "source": [
    "df_cust.isnull().sum()"
   ]
  },
  {
   "cell_type": "code",
   "execution_count": 998,
   "metadata": {},
   "outputs": [],
   "source": [
    "df=pd.merge(df,df_cust,on='customer_id',how='outer')"
   ]
  },
  {
   "cell_type": "code",
   "execution_count": 1062,
   "metadata": {},
   "outputs": [],
   "source": [
    "df=df.merge(df_campaign,on='campaign_id',how='outer')\n",
    "# is same as pd.DataFrame(df,df_campaign,on='campaign_id')"
   ]
  },
  {
   "cell_type": "code",
   "execution_count": 1063,
   "metadata": {},
   "outputs": [
    {
     "name": "stdout",
     "output_type": "stream",
     "text": [
      "(128595, 8)\n",
      "128595\n",
      "target null values :  50226\n"
     ]
    }
   ],
   "source": [
    "print(df.shape)\n",
    "print(df.id.count())\n",
    "print('target null values : ',df['redemption_status'].isnull().sum())"
   ]
  },
  {
   "cell_type": "code",
   "execution_count": 1064,
   "metadata": {},
   "outputs": [
    {
     "data": {
      "text/plain": [
       "Index(['date', 'customer_id', 'item_id', 'quantity', 'selling_price',\n",
       "       'other_discount', 'coupon_discount'],\n",
       "      dtype='object')"
      ]
     },
     "execution_count": 1064,
     "metadata": {},
     "output_type": "execute_result"
    }
   ],
   "source": [
    "df_txn.columns"
   ]
  },
  {
   "cell_type": "code",
   "execution_count": 1065,
   "metadata": {},
   "outputs": [
    {
     "name": "stdout",
     "output_type": "stream",
     "text": [
      "(1320441, 4)\n"
     ]
    }
   ],
   "source": [
    "# before we include df_txn , it needs work\n",
    "df_txn.drop(['selling_price','other_discount','quantity'],inplace=True,axis=1)\n",
    "df_txn.drop_duplicates(keep='first', inplace=True)  # before (1324566, 4) after (1320441, 4)\n",
    "print(df_txn.shape)"
   ]
  },
  {
   "cell_type": "code",
   "execution_count": 1003,
   "metadata": {},
   "outputs": [],
   "source": [
    "#one coupon applicable on multiple items, we cannot directly merge mapping df to our df"
   ]
  },
  {
   "cell_type": "code",
   "execution_count": 1066,
   "metadata": {},
   "outputs": [
    {
     "name": "stdout",
     "output_type": "stream",
     "text": [
      "(263914, 14)\n"
     ]
    }
   ],
   "source": [
    "# TAKES TIME\n",
    "df=df.merge(df_coupon_item_map,on='coupon_id', how='inner')\n",
    "df=df.merge(df_item_data,on='item_id',how='inner')\n",
    "df_combo=df.merge(df_txn,on=['item_id','customer_id'],how='inner').drop_duplicates()\n",
    "print(df_combo.shape) #(183954, 20)"
   ]
  },
  {
   "cell_type": "code",
   "execution_count": 1067,
   "metadata": {},
   "outputs": [
    {
     "data": {
      "text/plain": [
       "96691     776\n",
       "22510     668\n",
       "27110     574\n",
       "112119    572\n",
       "29656     524\n",
       "61066     480\n",
       "60475     478\n",
       "118668    468\n",
       "27690     468\n",
       "94836     465\n",
       "24701     465\n",
       "87988     457\n",
       "7139      457\n",
       "2592      425\n",
       "39886     401\n",
       "63738     399\n",
       "93701     398\n",
       "65138     382\n",
       "69141     369\n",
       "59972     367\n",
       "52594     365\n",
       "73452     354\n",
       "55721     351\n",
       "12290     349\n",
       "10614     349\n",
       "31328     346\n",
       "95304     346\n",
       "7361      343\n",
       "88130     342\n",
       "64206     341\n",
       "         ... \n",
       "126911      1\n",
       "112564      1\n",
       "13957       1\n",
       "104113      1\n",
       "76705       1\n",
       "3970        1\n",
       "39831       1\n",
       "37782       1\n",
       "900         1\n",
       "117437      1\n",
       "25224       1\n",
       "14979       1\n",
       "12930       1\n",
       "102838      1\n",
       "76193       1\n",
       "59801       1\n",
       "18829       1\n",
       "31115       1\n",
       "102582      1\n",
       "106672      1\n",
       "84141       1\n",
       "49308       1\n",
       "47251       1\n",
       "41104       1\n",
       "26761       1\n",
       "106416      1\n",
       "98220       1\n",
       "71585       1\n",
       "28558       1\n",
       "2049        1\n",
       "Name: id, Length: 26801, dtype: int64"
      ]
     },
     "execution_count": 1067,
     "metadata": {},
     "output_type": "execute_result"
    }
   ],
   "source": [
    "df_combo.id.value_counts()"
   ]
  },
  {
   "cell_type": "code",
   "execution_count": 1068,
   "metadata": {},
   "outputs": [
    {
     "data": {
      "text/plain": [
       "campaign_id               0\n",
       "coupon_id                 0\n",
       "customer_id               0\n",
       "id                        0\n",
       "redemption_status    124147\n",
       "campaign_type             0\n",
       "start_date                0\n",
       "end_date                  0\n",
       "item_id                   0\n",
       "brand                     0\n",
       "brand_type                0\n",
       "category                  0\n",
       "date                      0\n",
       "coupon_discount           0\n",
       "dtype: int64"
      ]
     },
     "execution_count": 1068,
     "metadata": {},
     "output_type": "execute_result"
    }
   ],
   "source": [
    "df_combo.isnull().sum()\n",
    "# Count non-NA cells for each column or row.\n",
    "#print(df_combo['marital_status'].count())  # Null-71538     not_null-112522  TOT-184060   = 38% are null\n",
    "#63.40% null for no_of_children column"
   ]
  },
  {
   "cell_type": "code",
   "execution_count": 1008,
   "metadata": {},
   "outputs": [],
   "source": [
    "df_combo.dropna(subset=['family_size'],inplace=True)"
   ]
  },
  {
   "cell_type": "raw",
   "metadata": {},
   "source": [
    "# we can assume that if family_size is 1 , no_of_children is zero\n",
    "# Knowledge : https://towardsdatascience.com/how-to-make-your-pandas-loop-71-803-times-faster-805030df4f06"
   ]
  },
  {
   "cell_type": "code",
   "execution_count": 1010,
   "metadata": {},
   "outputs": [],
   "source": [
    "df_combo['child_count']=df_combo['no_of_children']  #creating new column"
   ]
  },
  {
   "cell_type": "code",
   "execution_count": 1011,
   "metadata": {},
   "outputs": [],
   "source": [
    "df_combo.loc[(df_combo['family_size'].str.contains('1')),'child_count']=0    # age can also be included if req\n",
    "df_combo.drop('no_of_children',axis=1,inplace=True)\n",
    "\n",
    "# other way to do this\n",
    "#df_combo['child_count'] = [0 if b=='1' else 0 for b in df_combo['family_size']]"
   ]
  },
  {
   "cell_type": "code",
   "execution_count": 1012,
   "metadata": {},
   "outputs": [
    {
     "name": "stdout",
     "output_type": "stream",
     "text": [
      "[ 1.  0.  3. nan  2.]\n"
     ]
    }
   ],
   "source": [
    "#Assumption : if child count is non-zero , marital status should be married.[nan, 'Married', 'Single']\n",
    "df_combo['child_count'].replace('3+','3 ',inplace=True)\n",
    "df_combo['child_count'] = pd.to_numeric(df_combo['child_count']) # column type itself changed\n",
    "df_combo['child_count'] = df_combo['child_count'].astype(float)  # cant be converted to int since nan values present\n",
    "print(df_combo['child_count'].unique())"
   ]
  },
  {
   "cell_type": "code",
   "execution_count": 1013,
   "metadata": {},
   "outputs": [
    {
     "data": {
      "text/html": [
       "<div>\n",
       "<style scoped>\n",
       "    .dataframe tbody tr th:only-of-type {\n",
       "        vertical-align: middle;\n",
       "    }\n",
       "\n",
       "    .dataframe tbody tr th {\n",
       "        vertical-align: top;\n",
       "    }\n",
       "\n",
       "    .dataframe thead th {\n",
       "        text-align: right;\n",
       "    }\n",
       "</style>\n",
       "<table border=\"1\" class=\"dataframe\">\n",
       "  <thead>\n",
       "    <tr style=\"text-align: right;\">\n",
       "      <th></th>\n",
       "      <th>campaign_id</th>\n",
       "      <th>coupon_id</th>\n",
       "      <th>customer_id</th>\n",
       "      <th>id</th>\n",
       "      <th>redemption_status</th>\n",
       "      <th>age_range</th>\n",
       "      <th>marital_status</th>\n",
       "      <th>rented</th>\n",
       "      <th>family_size</th>\n",
       "      <th>income_bracket</th>\n",
       "      <th>campaign_type</th>\n",
       "      <th>start_date</th>\n",
       "      <th>end_date</th>\n",
       "      <th>item_id</th>\n",
       "      <th>brand</th>\n",
       "      <th>brand_type</th>\n",
       "      <th>category</th>\n",
       "      <th>date</th>\n",
       "      <th>coupon_discount</th>\n",
       "      <th>child_count</th>\n",
       "    </tr>\n",
       "  </thead>\n",
       "  <tbody>\n",
       "  </tbody>\n",
       "</table>\n",
       "</div>"
      ],
      "text/plain": [
       "Empty DataFrame\n",
       "Columns: [campaign_id, coupon_id, customer_id, id, redemption_status, age_range, marital_status, rented, family_size, income_bracket, campaign_type, start_date, end_date, item_id, brand, brand_type, category, date, coupon_discount, child_count]\n",
       "Index: []"
      ]
     },
     "execution_count": 1013,
     "metadata": {},
     "output_type": "execute_result"
    }
   ],
   "source": [
    "df_combo[(df_combo['child_count']>0) & ( df_combo['family_size']==1 ) ]\n",
    "#Insight : So it is safe to assume marital_status is married if child_count>0"
   ]
  },
  {
   "cell_type": "code",
   "execution_count": 1014,
   "metadata": {},
   "outputs": [
    {
     "name": "stdout",
     "output_type": "stream",
     "text": [
      "[3 1 5 2 4]\n"
     ]
    }
   ],
   "source": [
    "df_combo['family_size'].replace('5+','5',inplace=True)\n",
    "df_combo['family_size'] = pd.to_numeric(df_combo['family_size'])\n",
    "print(df_combo['family_size'].unique())"
   ]
  },
  {
   "cell_type": "code",
   "execution_count": null,
   "metadata": {},
   "outputs": [],
   "source": [
    "df_combo['marital']=df_combo['marital_status']\n",
    "df_combo.loc[(df_combo['child_count']>0),'marital']='Married'\n",
    "df_combo.drop('marital_status',axis=1,inplace=True)"
   ]
  },
  {
   "cell_type": "code",
   "execution_count": 1016,
   "metadata": {},
   "outputs": [
    {
     "data": {
      "text/plain": [
       "56010"
      ]
     },
     "execution_count": 1016,
     "metadata": {},
     "output_type": "execute_result"
    }
   ],
   "source": [
    "df_combo['marital'].isnull().sum()  # 71538 -> 56044 null values reduced"
   ]
  },
  {
   "cell_type": "code",
   "execution_count": 1017,
   "metadata": {},
   "outputs": [
    {
     "name": "stdout",
     "output_type": "stream",
     "text": [
      "16934\n"
     ]
    }
   ],
   "source": [
    "# Assuming when family_size=1 & child_count=0 THEN marital=Single\n",
    "df_combo.loc[(df_combo['family_size']==1) & (df_combo['child_count']<1),'marital']='Single'\n",
    "print(df_combo['marital'].isnull().sum())"
   ]
  },
  {
   "cell_type": "code",
   "execution_count": 1018,
   "metadata": {},
   "outputs": [],
   "source": [
    "# Assuming when family_size=2 & marital=Married THEN child_count=0   So,42701 rows can be filled\n",
    "\n",
    "#        df_combo[(df_combo['family_size']==2) & (df_combo['marital']=='Married') & (df_combo['child_count'].isnull() )]"
   ]
  },
  {
   "cell_type": "code",
   "execution_count": 1019,
   "metadata": {},
   "outputs": [
    {
     "name": "stdout",
     "output_type": "stream",
     "text": [
      "20328\n"
     ]
    }
   ],
   "source": [
    "df_combo.loc[(df_combo['family_size']==2) & (df_combo['marital']=='Married'),'child_count']=0\n",
    "print(df_combo['child_count'].isnull().sum())"
   ]
  },
  {
   "cell_type": "code",
   "execution_count": null,
   "metadata": {},
   "outputs": [],
   "source": [
    "df_combo['age_range'].value_counts()"
   ]
  },
  {
   "cell_type": "code",
   "execution_count": 1021,
   "metadata": {},
   "outputs": [],
   "source": [
    "age_dict={\n",
    "    \"18-25\":22,\n",
    "    \"26-35\":31,\n",
    "    \"36-45\":41,\n",
    "    \"46-55\":51,   \n",
    "    \"56-70\":63,\n",
    "    \"70+\":71\n",
    "}"
   ]
  },
  {
   "cell_type": "code",
   "execution_count": 1022,
   "metadata": {},
   "outputs": [],
   "source": [
    "df_combo['Age']=df_combo['age_range'].map(age_dict)\n",
    "df_combo.drop('age_range',inplace=True,axis=1)"
   ]
  },
  {
   "cell_type": "markdown",
   "metadata": {},
   "source": [
    "brand_type=> Local/Established,\n",
    "category=> 16 values"
   ]
  },
  {
   "cell_type": "code",
   "execution_count": 1071,
   "metadata": {},
   "outputs": [
    {
     "data": {
      "text/plain": [
       "Index(['campaign_id', 'coupon_id', 'customer_id', 'id', 'redemption_status',\n",
       "       'campaign_type', 'start_date', 'end_date', 'item_id', 'brand',\n",
       "       'brand_type', 'category', 'date', 'coupon_discount'],\n",
       "      dtype='object')"
      ]
     },
     "execution_count": 1071,
     "metadata": {},
     "output_type": "execute_result"
    }
   ],
   "source": [
    "#one hot encoding for brand_type column\n",
    "df_combo.columns"
   ]
  },
  {
   "cell_type": "code",
   "execution_count": 1072,
   "metadata": {},
   "outputs": [
    {
     "data": {
      "text/plain": [
       "Established    209328\n",
       "Local           54586\n",
       "Name: brand_type, dtype: int64"
      ]
     },
     "execution_count": 1072,
     "metadata": {},
     "output_type": "execute_result"
    }
   ],
   "source": [
    "df_combo['brand_type'].value_counts()"
   ]
  },
  {
   "cell_type": "code",
   "execution_count": 1073,
   "metadata": {},
   "outputs": [],
   "source": [
    "df1=pd.get_dummies(df_combo['brand_type'],drop_first=True)\n",
    "df_combo.drop(['brand_type'],axis=1,inplace=True)\n",
    "df_combo=pd.concat([df_combo,df1],axis=1)"
   ]
  },
  {
   "cell_type": "code",
   "execution_count": 1074,
   "metadata": {},
   "outputs": [
    {
     "data": {
      "text/plain": [
       "0    209328\n",
       "1     54586\n",
       "Name: Local, dtype: int64"
      ]
     },
     "execution_count": 1074,
     "metadata": {},
     "output_type": "execute_result"
    }
   ],
   "source": [
    "df_combo['Local'].value_counts()"
   ]
  },
  {
   "cell_type": "code",
   "execution_count": 1027,
   "metadata": {},
   "outputs": [],
   "source": [
    "# one hot encoding using LabelEncoder first    FOR column - category\n",
    "# LablelEncoder limitation -> it may introduce sequence relation betn rows like 1,2,3,.. which is not there\n",
    "# Hence OneHotEncoder is must after that"
   ]
  },
  {
   "cell_type": "raw",
   "metadata": {},
   "source": [
    "from sklearn.preprocessing import LabelEncoder\n",
    "labelencoder = LabelEncoder()\n",
    "from sklearn.preprocessing import OneHotEncoder\n",
    "onehotencoder = OneHotEncoder()\n",
    "df_combo['category'] = labelencoder.fit_transform(df_combo['category'])\n",
    "#now category column has values like 1,2,3,4...\n",
    "df_combo['category'].values\n",
    "onehotlabels = onehotencoder.fit_transform(df_combo['category']).toarray()\n",
    "#didnt worked , skipping\n",
    "#  ValueError: Expected 2D array, got 1D array instead:\n"
   ]
  },
  {
   "cell_type": "code",
   "execution_count": 1028,
   "metadata": {},
   "outputs": [
    {
     "data": {
      "text/plain": [
       "Index(['campaign_type', 'start_date', 'end_date', 'category', 'date',\n",
       "       'marital'],\n",
       "      dtype='object')"
      ]
     },
     "execution_count": 1028,
     "metadata": {},
     "output_type": "execute_result"
    }
   ],
   "source": [
    "#Another way to get categorical columns\n",
    "df_combo.select_dtypes(include=[object]).columns\n",
    "\n",
    "#OR\n",
    "\n",
    "#cat_col=list(df_combo.dtypes[df_combo.dtypes==\"object\"].index)"
   ]
  },
  {
   "cell_type": "code",
   "execution_count": 1075,
   "metadata": {},
   "outputs": [],
   "source": [
    "df2=pd.get_dummies(df_combo['category'],drop_first=True,prefix='cat')\n",
    "df_combo.drop(['category'],axis=1,inplace=True)\n",
    "df_combo=pd.concat([df_combo,df2],axis=1)"
   ]
  },
  {
   "cell_type": "code",
   "execution_count": 1076,
   "metadata": {},
   "outputs": [],
   "source": [
    "df_combo.columns = df_combo.columns.str.strip()\n",
    "df_combo.columns = df_combo.columns.str.replace('(', '')\n",
    "df_combo.columns = df_combo.columns.str.replace(')', '')\n",
    "df_combo.columns = df_combo.columns.str.replace(',', '')\n",
    "df_combo.columns = df_combo.columns.str.replace(' ', '')\n",
    "# str.lower() can also be used"
   ]
  },
  {
   "cell_type": "code",
   "execution_count": 1077,
   "metadata": {},
   "outputs": [],
   "source": [
    "df3=pd.get_dummies(df_combo['campaign_type'],drop_first=True,prefix='camp_type')\n",
    "df_combo.drop(['campaign_type'],axis=1,inplace=True)\n",
    "df_combo=pd.concat([df_combo,df3],axis=1)"
   ]
  },
  {
   "cell_type": "code",
   "execution_count": 1032,
   "metadata": {},
   "outputs": [
    {
     "name": "stdout",
     "output_type": "stream",
     "text": [
      "object\n",
      "<class 'str'>\n",
      "['Married' 'Single' nan]\n"
     ]
    }
   ],
   "source": [
    "#Converting dtype for marital & one hot encoding\n",
    "print(df_combo['marital'].dtype)\n",
    "print(type(df_combo['marital'][0]))\n",
    "print(df_combo['marital'].unique())   # TOT 167119 (married + single)"
   ]
  },
  {
   "cell_type": "code",
   "execution_count": 1033,
   "metadata": {},
   "outputs": [],
   "source": [
    "df4=pd.get_dummies(df_combo['marital'],drop_first=True,prefix='marital')\n",
    "df_combo.drop(['marital'],axis=1,inplace=True)\n",
    "df_combo=pd.concat([df_combo,df4],axis=1)"
   ]
  },
  {
   "cell_type": "code",
   "execution_count": 1034,
   "metadata": {},
   "outputs": [
    {
     "data": {
      "text/html": [
       "<div>\n",
       "<style scoped>\n",
       "    .dataframe tbody tr th:only-of-type {\n",
       "        vertical-align: middle;\n",
       "    }\n",
       "\n",
       "    .dataframe tbody tr th {\n",
       "        vertical-align: top;\n",
       "    }\n",
       "\n",
       "    .dataframe thead th {\n",
       "        text-align: right;\n",
       "    }\n",
       "</style>\n",
       "<table border=\"1\" class=\"dataframe\">\n",
       "  <thead>\n",
       "    <tr style=\"text-align: right;\">\n",
       "      <th></th>\n",
       "      <th>campaign_id</th>\n",
       "      <th>coupon_id</th>\n",
       "      <th>customer_id</th>\n",
       "      <th>id</th>\n",
       "      <th>redemption_status</th>\n",
       "      <th>rented</th>\n",
       "      <th>family_size</th>\n",
       "      <th>income_bracket</th>\n",
       "      <th>start_date</th>\n",
       "      <th>end_date</th>\n",
       "      <th>...</th>\n",
       "      <th>cat_PackagedMeat</th>\n",
       "      <th>cat_Pharmaceutical</th>\n",
       "      <th>cat_PreparedFood</th>\n",
       "      <th>cat_Salads</th>\n",
       "      <th>cat_Seafood</th>\n",
       "      <th>cat_Skin&amp;HairCare</th>\n",
       "      <th>cat_Travel</th>\n",
       "      <th>cat_Vegetablescut</th>\n",
       "      <th>camp_type_Y</th>\n",
       "      <th>marital_Single</th>\n",
       "    </tr>\n",
       "  </thead>\n",
       "  <tbody>\n",
       "  </tbody>\n",
       "</table>\n",
       "<p>0 rows × 34 columns</p>\n",
       "</div>"
      ],
      "text/plain": [
       "Empty DataFrame\n",
       "Columns: [campaign_id, coupon_id, customer_id, id, redemption_status, rented, family_size, income_bracket, start_date, end_date, item_id, brand, date, coupon_discount, child_count, Age, Local, cat_DairyJuices&Snacks, cat_Flowers&Plants, cat_Garden, cat_Grocery, cat_Meat, cat_Miscellaneous, cat_NaturalProducts, cat_PackagedMeat, cat_Pharmaceutical, cat_PreparedFood, cat_Salads, cat_Seafood, cat_Skin&HairCare, cat_Travel, cat_Vegetablescut, camp_type_Y, marital_Single]\n",
       "Index: []\n",
       "\n",
       "[0 rows x 34 columns]"
      ]
     },
     "execution_count": 1034,
     "metadata": {},
     "output_type": "execute_result"
    }
   ],
   "source": [
    "df_combo.head(0)  # added new column marital_Single"
   ]
  },
  {
   "cell_type": "code",
   "execution_count": 1098,
   "metadata": {},
   "outputs": [],
   "source": [
    "#BACKUP=df_combo.copy()            ###### BACKUP #########\n",
    "#df_combo=BACKUP\n",
    "\n",
    "#good pracitce to save this data to csv file\n",
    "#          BACKUP.to_csv(\"BACKUP.csv\")"
   ]
  },
  {
   "cell_type": "code",
   "execution_count": 1099,
   "metadata": {},
   "outputs": [
    {
     "data": {
      "text/plain": [
       "0.0    121223\n",
       "1.0     18544\n",
       "Name: redemption_status, dtype: int64"
      ]
     },
     "execution_count": 1099,
     "metadata": {},
     "output_type": "execute_result"
    }
   ],
   "source": [
    "df_combo['redemption_status'].value_counts()   #93955 not null  #90105 NULL  TOT 184060   48% null values"
   ]
  },
  {
   "cell_type": "code",
   "execution_count": 1100,
   "metadata": {},
   "outputs": [],
   "source": [
    "df_combo.drop(['start_date', 'end_date', 'date'],axis=1,inplace=True)"
   ]
  },
  {
   "cell_type": "code",
   "execution_count": 1101,
   "metadata": {},
   "outputs": [],
   "source": [
    "train=df_combo[df_combo['redemption_status'].notnull()]\n",
    "test=df_combo[df_combo['redemption_status'].isnull()]"
   ]
  },
  {
   "cell_type": "code",
   "execution_count": 1102,
   "metadata": {},
   "outputs": [
    {
     "name": "stdout",
     "output_type": "stream",
     "text": [
      "139767\n",
      "124147\n"
     ]
    }
   ],
   "source": [
    "print(train.id.count())\n",
    "print(test.id.count())   #we need 50226"
   ]
  },
  {
   "cell_type": "code",
   "execution_count": 1103,
   "metadata": {},
   "outputs": [
    {
     "name": "stdout",
     "output_type": "stream",
     "text": [
      "(124147, 24)\n",
      "Index(['campaign_id', 'coupon_id', 'customer_id', 'id', 'item_id', 'brand',\n",
      "       'coupon_discount', 'Local', 'cat_DairyJuices&Snacks',\n",
      "       'cat_Flowers&Plants', 'cat_Garden', 'cat_Grocery', 'cat_Meat',\n",
      "       'cat_Miscellaneous', 'cat_NaturalProducts', 'cat_PackagedMeat',\n",
      "       'cat_Pharmaceutical', 'cat_PreparedFood', 'cat_Salads', 'cat_Seafood',\n",
      "       'cat_Skin&HairCare', 'cat_Travel', 'cat_Vegetablescut', 'camp_type_Y'],\n",
      "      dtype='object')\n"
     ]
    }
   ],
   "source": [
    "test.drop(['redemption_status'],axis=1,inplace=True)\n",
    "print(test.shape)\n",
    "print(test.columns)\n",
    "#we need to make test same as df_test for the original columns\n",
    "#['id', 'campaign_id', 'coupon_id', 'customer_id']"
   ]
  },
  {
   "cell_type": "code",
   "execution_count": 1104,
   "metadata": {},
   "outputs": [
    {
     "data": {
      "text/plain": [
       "(66574, 24)"
      ]
     },
     "execution_count": 1104,
     "metadata": {},
     "output_type": "execute_result"
    }
   ],
   "source": [
    "test.drop_duplicates(inplace=True)\n",
    "#test.drop_duplicates(subset='id', keep=\"first\",inplace=True)\n",
    "test.shape"
   ]
  },
  {
   "cell_type": "code",
   "execution_count": 1084,
   "metadata": {},
   "outputs": [
    {
     "data": {
      "text/plain": [
       "124147"
      ]
     },
     "execution_count": 1084,
     "metadata": {},
     "output_type": "execute_result"
    }
   ],
   "source": [
    "test['id'].count()\n",
    "# Length: 50226\n",
    "# i.e. if take unique values of 'id' ,then we have only 50226 records as expected"
   ]
  },
  {
   "cell_type": "code",
   "execution_count": 1105,
   "metadata": {},
   "outputs": [],
   "source": [
    "test_cat=test.merge(df_test,on=['id','campaign_id','coupon_id','customer_id'],how='outer')"
   ]
  },
  {
   "cell_type": "code",
   "execution_count": 1086,
   "metadata": {},
   "outputs": [
    {
     "data": {
      "text/html": [
       "<div>\n",
       "<style scoped>\n",
       "    .dataframe tbody tr th:only-of-type {\n",
       "        vertical-align: middle;\n",
       "    }\n",
       "\n",
       "    .dataframe tbody tr th {\n",
       "        vertical-align: top;\n",
       "    }\n",
       "\n",
       "    .dataframe thead th {\n",
       "        text-align: right;\n",
       "    }\n",
       "</style>\n",
       "<table border=\"1\" class=\"dataframe\">\n",
       "  <thead>\n",
       "    <tr style=\"text-align: right;\">\n",
       "      <th></th>\n",
       "      <th>brand</th>\n",
       "      <th>date</th>\n",
       "      <th>coupon_discount</th>\n",
       "      <th>Local</th>\n",
       "      <th>cat_DairyJuices&amp;Snacks</th>\n",
       "      <th>cat_Flowers&amp;Plants</th>\n",
       "      <th>cat_Garden</th>\n",
       "    </tr>\n",
       "  </thead>\n",
       "  <tbody>\n",
       "    <tr>\n",
       "      <th>78850</th>\n",
       "      <td>1075.0</td>\n",
       "      <td>2012-08-24</td>\n",
       "      <td>-35.62</td>\n",
       "      <td>0.0</td>\n",
       "      <td>0.0</td>\n",
       "      <td>0.0</td>\n",
       "      <td>0.0</td>\n",
       "    </tr>\n",
       "    <tr>\n",
       "      <th>78851</th>\n",
       "      <td>1075.0</td>\n",
       "      <td>2013-05-02</td>\n",
       "      <td>0.00</td>\n",
       "      <td>0.0</td>\n",
       "      <td>0.0</td>\n",
       "      <td>0.0</td>\n",
       "      <td>0.0</td>\n",
       "    </tr>\n",
       "    <tr>\n",
       "      <th>78852</th>\n",
       "      <td>1075.0</td>\n",
       "      <td>2012-08-31</td>\n",
       "      <td>0.00</td>\n",
       "      <td>0.0</td>\n",
       "      <td>0.0</td>\n",
       "      <td>0.0</td>\n",
       "      <td>0.0</td>\n",
       "    </tr>\n",
       "    <tr>\n",
       "      <th>78853</th>\n",
       "      <td>1075.0</td>\n",
       "      <td>2012-10-26</td>\n",
       "      <td>0.00</td>\n",
       "      <td>0.0</td>\n",
       "      <td>0.0</td>\n",
       "      <td>0.0</td>\n",
       "      <td>0.0</td>\n",
       "    </tr>\n",
       "    <tr>\n",
       "      <th>78854</th>\n",
       "      <td>1075.0</td>\n",
       "      <td>2012-11-30</td>\n",
       "      <td>0.00</td>\n",
       "      <td>0.0</td>\n",
       "      <td>0.0</td>\n",
       "      <td>0.0</td>\n",
       "      <td>0.0</td>\n",
       "    </tr>\n",
       "    <tr>\n",
       "      <th>78855</th>\n",
       "      <td>1075.0</td>\n",
       "      <td>2013-04-19</td>\n",
       "      <td>0.00</td>\n",
       "      <td>0.0</td>\n",
       "      <td>0.0</td>\n",
       "      <td>0.0</td>\n",
       "      <td>0.0</td>\n",
       "    </tr>\n",
       "    <tr>\n",
       "      <th>78856</th>\n",
       "      <td>1075.0</td>\n",
       "      <td>2012-10-04</td>\n",
       "      <td>0.00</td>\n",
       "      <td>0.0</td>\n",
       "      <td>0.0</td>\n",
       "      <td>0.0</td>\n",
       "      <td>0.0</td>\n",
       "    </tr>\n",
       "    <tr>\n",
       "      <th>78857</th>\n",
       "      <td>1075.0</td>\n",
       "      <td>2012-11-23</td>\n",
       "      <td>0.00</td>\n",
       "      <td>0.0</td>\n",
       "      <td>0.0</td>\n",
       "      <td>0.0</td>\n",
       "      <td>0.0</td>\n",
       "    </tr>\n",
       "    <tr>\n",
       "      <th>78858</th>\n",
       "      <td>1075.0</td>\n",
       "      <td>2012-05-24</td>\n",
       "      <td>0.00</td>\n",
       "      <td>0.0</td>\n",
       "      <td>0.0</td>\n",
       "      <td>0.0</td>\n",
       "      <td>0.0</td>\n",
       "    </tr>\n",
       "    <tr>\n",
       "      <th>78859</th>\n",
       "      <td>1075.0</td>\n",
       "      <td>2012-04-25</td>\n",
       "      <td>0.00</td>\n",
       "      <td>0.0</td>\n",
       "      <td>0.0</td>\n",
       "      <td>0.0</td>\n",
       "      <td>0.0</td>\n",
       "    </tr>\n",
       "    <tr>\n",
       "      <th>78860</th>\n",
       "      <td>1075.0</td>\n",
       "      <td>2012-05-03</td>\n",
       "      <td>0.00</td>\n",
       "      <td>0.0</td>\n",
       "      <td>0.0</td>\n",
       "      <td>0.0</td>\n",
       "      <td>0.0</td>\n",
       "    </tr>\n",
       "    <tr>\n",
       "      <th>78861</th>\n",
       "      <td>1075.0</td>\n",
       "      <td>2012-05-17</td>\n",
       "      <td>0.00</td>\n",
       "      <td>0.0</td>\n",
       "      <td>0.0</td>\n",
       "      <td>0.0</td>\n",
       "      <td>0.0</td>\n",
       "    </tr>\n",
       "    <tr>\n",
       "      <th>78862</th>\n",
       "      <td>1075.0</td>\n",
       "      <td>2012-05-31</td>\n",
       "      <td>0.00</td>\n",
       "      <td>0.0</td>\n",
       "      <td>0.0</td>\n",
       "      <td>0.0</td>\n",
       "      <td>0.0</td>\n",
       "    </tr>\n",
       "    <tr>\n",
       "      <th>78863</th>\n",
       "      <td>1075.0</td>\n",
       "      <td>2012-06-13</td>\n",
       "      <td>0.00</td>\n",
       "      <td>0.0</td>\n",
       "      <td>0.0</td>\n",
       "      <td>0.0</td>\n",
       "      <td>0.0</td>\n",
       "    </tr>\n",
       "    <tr>\n",
       "      <th>78864</th>\n",
       "      <td>1075.0</td>\n",
       "      <td>2012-08-15</td>\n",
       "      <td>-35.62</td>\n",
       "      <td>0.0</td>\n",
       "      <td>0.0</td>\n",
       "      <td>0.0</td>\n",
       "      <td>0.0</td>\n",
       "    </tr>\n",
       "  </tbody>\n",
       "</table>\n",
       "</div>"
      ],
      "text/plain": [
       "        brand        date  coupon_discount  Local  cat_DairyJuices&Snacks  \\\n",
       "78850  1075.0  2012-08-24           -35.62    0.0                     0.0   \n",
       "78851  1075.0  2013-05-02             0.00    0.0                     0.0   \n",
       "78852  1075.0  2012-08-31             0.00    0.0                     0.0   \n",
       "78853  1075.0  2012-10-26             0.00    0.0                     0.0   \n",
       "78854  1075.0  2012-11-30             0.00    0.0                     0.0   \n",
       "78855  1075.0  2013-04-19             0.00    0.0                     0.0   \n",
       "78856  1075.0  2012-10-04             0.00    0.0                     0.0   \n",
       "78857  1075.0  2012-11-23             0.00    0.0                     0.0   \n",
       "78858  1075.0  2012-05-24             0.00    0.0                     0.0   \n",
       "78859  1075.0  2012-04-25             0.00    0.0                     0.0   \n",
       "78860  1075.0  2012-05-03             0.00    0.0                     0.0   \n",
       "78861  1075.0  2012-05-17             0.00    0.0                     0.0   \n",
       "78862  1075.0  2012-05-31             0.00    0.0                     0.0   \n",
       "78863  1075.0  2012-06-13             0.00    0.0                     0.0   \n",
       "78864  1075.0  2012-08-15           -35.62    0.0                     0.0   \n",
       "\n",
       "       cat_Flowers&Plants  cat_Garden  \n",
       "78850                 0.0         0.0  \n",
       "78851                 0.0         0.0  \n",
       "78852                 0.0         0.0  \n",
       "78853                 0.0         0.0  \n",
       "78854                 0.0         0.0  \n",
       "78855                 0.0         0.0  \n",
       "78856                 0.0         0.0  \n",
       "78857                 0.0         0.0  \n",
       "78858                 0.0         0.0  \n",
       "78859                 0.0         0.0  \n",
       "78860                 0.0         0.0  \n",
       "78861                 0.0         0.0  \n",
       "78862                 0.0         0.0  \n",
       "78863                 0.0         0.0  \n",
       "78864                 0.0         0.0  "
      ]
     },
     "execution_count": 1086,
     "metadata": {},
     "output_type": "execute_result"
    }
   ],
   "source": [
    "test_cat[test_cat['id']==3].iloc[:15,7:14]"
   ]
  },
  {
   "cell_type": "code",
   "execution_count": 1107,
   "metadata": {},
   "outputs": [
    {
     "data": {
      "text/plain": [
       "26149     1\n",
       "46428     1\n",
       "34138     1\n",
       "40281     1\n",
       "103768    1\n",
       "46391     1\n",
       "64853     1\n",
       "64651     1\n",
       "118492    1\n",
       "77135     1\n",
       "81229     1\n",
       "13644     1\n",
       "3403      1\n",
       "1354      1\n",
       "115707    1\n",
       "5448      1\n",
       "88389     1\n",
       "95556     1\n",
       "114217    1\n",
       "83266     1\n",
       "23873     1\n",
       "107838    1\n",
       "113981    1\n",
       "36187     1\n",
       "48524     1\n",
       "35835     1\n",
       "107870    1\n",
       "40313     1\n",
       "126327    1\n",
       "58742     1\n",
       "         ..\n",
       "35428     1\n",
       "111203    1\n",
       "47714     1\n",
       "41569     1\n",
       "23134     1\n",
       "90745     1\n",
       "32641     1\n",
       "94843     1\n",
       "60040     1\n",
       "74385     1\n",
       "10896     1\n",
       "94814     1\n",
       "55950     1\n",
       "125027    1\n",
       "117388    1\n",
       "127627    1\n",
       "67657     1\n",
       "57993     1\n",
       "84586     1\n",
       "19068     1\n",
       "39558     1\n",
       "98949     1\n",
       "111235    1\n",
       "113282    1\n",
       "108488    1\n",
       "43648     1\n",
       "21119     1\n",
       "23166     1\n",
       "17021     1\n",
       "104087    1\n",
       "Name: id, Length: 50226, dtype: int64"
      ]
     },
     "execution_count": 1107,
     "metadata": {},
     "output_type": "execute_result"
    }
   ],
   "source": [
    "test_cat.drop_duplicates(subset='id', keep=\"first\",inplace=True)\n",
    "test_cat.id.value_counts()"
   ]
  },
  {
   "cell_type": "code",
   "execution_count": 1108,
   "metadata": {},
   "outputs": [],
   "source": [
    "#X_train=train.drop(['redemption_status','start_date', 'end_date', 'date'],axis=1)\n",
    "X_train=train.drop(['redemption_status'],axis=1)\n",
    "y_train=train['redemption_status']"
   ]
  },
  {
   "cell_type": "code",
   "execution_count": 1119,
   "metadata": {},
   "outputs": [],
   "source": [
    "# delete this\n",
    "#internal testing accuracy\n",
    "A=train.drop(['redemption_status'],axis=1)\n",
    "B=train['redemption_status']\n",
    "\n",
    "X_train, X_test, y_train, y_test = train_test_split(A, B, test_size=0.30, random_state=42)"
   ]
  },
  {
   "cell_type": "code",
   "execution_count": null,
   "metadata": {},
   "outputs": [],
   "source": []
  },
  {
   "cell_type": "code",
   "execution_count": 1112,
   "metadata": {},
   "outputs": [],
   "source": [
    "import xgboost as xgb\n",
    "classifier = xgb.XGBClassifier()"
   ]
  },
  {
   "cell_type": "code",
   "execution_count": 1120,
   "metadata": {},
   "outputs": [
    {
     "data": {
      "text/plain": [
       "XGBClassifier(base_score=0.5, booster='gbtree', colsample_bylevel=1,\n",
       "       colsample_bynode=1, colsample_bytree=1, gamma=0, learning_rate=0.1,\n",
       "       max_delta_step=0, max_depth=3, min_child_weight=1, missing=None,\n",
       "       n_estimators=100, n_jobs=1, nthread=None,\n",
       "       objective='binary:logistic', random_state=0, reg_alpha=0,\n",
       "       reg_lambda=1, scale_pos_weight=1, seed=None, silent=None,\n",
       "       subsample=1, verbosity=1)"
      ]
     },
     "execution_count": 1120,
     "metadata": {},
     "output_type": "execute_result"
    }
   ],
   "source": [
    "#DataFrame.dtypes for data must be int, float or bool.\n",
    "classifier.fit(X_train, y_train)"
   ]
  },
  {
   "cell_type": "raw",
   "metadata": {},
   "source": [
    "#pickle\n",
    "import pickle\n",
    "filename=\"xgb_classifier_amexpert.pkl\"\n",
    "pickle.dump(classifier,open(filename,\"wb\"))"
   ]
  },
  {
   "cell_type": "code",
   "execution_count": 1121,
   "metadata": {},
   "outputs": [
    {
     "data": {
      "text/plain": [
       "(41931,)"
      ]
     },
     "execution_count": 1121,
     "metadata": {},
     "output_type": "execute_result"
    }
   ],
   "source": [
    "pred=classifier.predict(X_test)\n",
    "# training on X features and testing on Y features in not allowed\n",
    "pred.shape"
   ]
  },
  {
   "cell_type": "code",
   "execution_count": 1122,
   "metadata": {},
   "outputs": [
    {
     "data": {
      "text/plain": [
       "1549"
      ]
     },
     "execution_count": 1122,
     "metadata": {},
     "output_type": "execute_result"
    }
   ],
   "source": [
    "np.count_nonzero(pred)"
   ]
  },
  {
   "cell_type": "code",
   "execution_count": 1123,
   "metadata": {},
   "outputs": [
    {
     "name": "stdout",
     "output_type": "stream",
     "text": [
      "[[36243   126]\n",
      " [ 4139  1423]]\n",
      "              precision    recall  f1-score   support\n",
      "\n",
      "         0.0       0.90      1.00      0.94     36369\n",
      "         1.0       0.92      0.26      0.40      5562\n",
      "\n",
      "   micro avg       0.90      0.90      0.90     41931\n",
      "   macro avg       0.91      0.63      0.67     41931\n",
      "weighted avg       0.90      0.90      0.87     41931\n",
      "\n"
     ]
    }
   ],
   "source": [
    "from sklearn.metrics import classification_report,confusion_matrix\n",
    "print(confusion_matrix(y_test,pred))\n",
    "print(classification_report(y_test,pred))\n",
    "# BUt we need to check error  with ROC curve"
   ]
  },
  {
   "cell_type": "code",
   "execution_count": null,
   "metadata": {},
   "outputs": [],
   "source": [
    "#128594 records in sample submission , exact count 50226\n",
    "#my pred count is  28187\n",
    "df_sub=pd.read_csv('sample_submission.csv')"
   ]
  },
  {
   "cell_type": "code",
   "execution_count": 1117,
   "metadata": {},
   "outputs": [],
   "source": [
    "from sklearn.metrics import roc_auc_score"
   ]
  },
  {
   "cell_type": "code",
   "execution_count": 1124,
   "metadata": {},
   "outputs": [
    {
     "name": "stdout",
     "output_type": "stream",
     "text": [
      "0.9103431061789655\n"
     ]
    }
   ],
   "source": [
    "#https://elitedatascience.com/imbalanced-classes\n",
    "\n",
    "# Predict class probabilities\n",
    "prob_y_2 = classifier.predict_proba(X_test)\n",
    " \n",
    "# Keep only the positive class\n",
    "prob_y_2 = [p[1] for p in prob_y_2]\n",
    "\n",
    "print( roc_auc_score(y_test, prob_y_2) )   #0.91 with all test columns"
   ]
  }
 ],
 "metadata": {
  "kernelspec": {
   "display_name": "Python 3",
   "language": "python",
   "name": "python3"
  },
  "language_info": {
   "codemirror_mode": {
    "name": "ipython",
    "version": 3
   },
   "file_extension": ".py",
   "mimetype": "text/x-python",
   "name": "python",
   "nbconvert_exporter": "python",
   "pygments_lexer": "ipython3",
   "version": "3.7.3"
  }
 },
 "nbformat": 4,
 "nbformat_minor": 2
}
